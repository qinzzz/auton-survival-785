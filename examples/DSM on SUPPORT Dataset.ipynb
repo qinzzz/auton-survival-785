{
 "cells": [
  {
   "cell_type": "markdown",
   "metadata": {},
   "source": [
    "# DSM on SUPPORT Dataset"
   ]
  },
  {
   "cell_type": "markdown",
   "metadata": {},
   "source": [
    "The SUPPORT dataset comes from the Vanderbilt University study\n",
    "to estimate survival for seriously ill hospitalized adults.\n",
    "(Refer to http://biostat.mc.vanderbilt.edu/wiki/Main/SupportDesc.\n",
    "for the original datasource.)\n",
    "\n",
    "In this notebook, we will apply Deep Survival Machines for survival prediction on the SUPPORT data."
   ]
  },
  {
   "cell_type": "markdown",
   "metadata": {},
   "source": [
    "### Load the SUPPORT Dataset\n",
    "\n",
    "The package includes helper functions to load the dataset.\n",
    "\n",
    "X represents an np.array of features (covariates),\n",
    "T is the event/censoring times and,\n",
    "E is the censoring indicator."
   ]
  },
  {
   "cell_type": "code",
   "execution_count": 1,
   "metadata": {},
   "outputs": [
    {
     "name": "stdout",
     "output_type": "stream",
     "text": [
      "['c:\\\\Users\\\\oli30\\\\Desktop\\\\11785_Intro_to_DL\\\\project\\\\auton-survival-785\\\\examples', 'C:\\\\Users\\\\oli30\\\\anaconda3\\\\python38.zip', 'C:\\\\Users\\\\oli30\\\\anaconda3\\\\DLLs', 'C:\\\\Users\\\\oli30\\\\anaconda3\\\\lib', 'C:\\\\Users\\\\oli30\\\\anaconda3', '', 'C:\\\\Users\\\\oli30\\\\anaconda3\\\\lib\\\\site-packages', 'C:\\\\Users\\\\oli30\\\\anaconda3\\\\lib\\\\site-packages\\\\win32', 'C:\\\\Users\\\\oli30\\\\anaconda3\\\\lib\\\\site-packages\\\\win32\\\\lib', 'C:\\\\Users\\\\oli30\\\\anaconda3\\\\lib\\\\site-packages\\\\Pythonwin', 'C:\\\\Users\\\\oli30\\\\AppData\\\\Roaming\\\\Python\\\\Python38\\\\site-packages', '../', '../']\n"
     ]
    }
   ],
   "source": [
    "import sys\n",
    "\n",
    "sys.path.append('../')\n",
    "from auton_survival import datasets\n",
    "outcomes, features = datasets.load_support()"
   ]
  },
  {
   "cell_type": "code",
   "execution_count": 2,
   "metadata": {},
   "outputs": [],
   "source": [
    "from auton_survival.preprocessing import Preprocessor\n",
    "cat_feats = ['sex', 'dzgroup', 'dzclass', 'income', 'race', 'ca']\n",
    "num_feats = ['age', 'num.co', 'meanbp', 'wblc', 'hrt', 'resp', \n",
    "\t     'temp', 'pafi', 'alb', 'bili', 'crea', 'sod', 'ph', \n",
    "             'glucose', 'bun', 'urine', 'adlp', 'adls']\n",
    "\n",
    "features = Preprocessor().fit_transform(features, cat_feats=cat_feats, num_feats=num_feats)"
   ]
  },
  {
   "cell_type": "markdown",
   "metadata": {},
   "source": [
    "### Compute horizons at which we evaluate the performance of DSM\n",
    "\n",
    "Survival predictions are issued at certain time horizons. Here we will evaluate the performance\n",
    "of DSM to issue predictions at the 25th, 50th and 75th event time quantile as is standard practice in Survival Analysis."
   ]
  },
  {
   "cell_type": "code",
   "execution_count": 3,
   "metadata": {},
   "outputs": [],
   "source": [
    "import numpy as np\n",
    "horizons = [0.25, 0.5, 0.75]\n",
    "times = np.quantile(outcomes.time[outcomes.event==1], horizons).tolist()"
   ]
  },
  {
   "cell_type": "code",
   "execution_count": null,
   "metadata": {},
   "outputs": [],
   "source": [
    "features.values.shape"
   ]
  },
  {
   "cell_type": "markdown",
   "metadata": {},
   "source": [
    "### Splitting the data into train, test and validation sets\n",
    "\n",
    "We will train DSM on 70% of the Data, use a Validation set of 10% for Model Selection and report performance on the remaining 20% held out test set."
   ]
  },
  {
   "cell_type": "code",
   "execution_count": 4,
   "metadata": {},
   "outputs": [],
   "source": [
    "x, t, e = features.values, outcomes.time.values, outcomes.event.values\n",
    "\n",
    "n = len(x)\n",
    "\n",
    "tr_size = int(n*0.70)\n",
    "vl_size = int(n*0.10)\n",
    "te_size = int(n*0.20)\n",
    "\n",
    "x_train, x_test, x_val = x[:tr_size], x[-te_size:], x[tr_size:tr_size+vl_size]\n",
    "t_train, t_test, t_val = t[:tr_size], t[-te_size:], t[tr_size:tr_size+vl_size]\n",
    "e_train, e_test, e_val = e[:tr_size], e[-te_size:], e[tr_size:tr_size+vl_size]"
   ]
  },
  {
   "cell_type": "markdown",
   "metadata": {},
   "source": [
    "### Setting the parameter grid\n",
    "\n",
    "Lets set up the parameter grid to tune hyper-parameters. We will tune the number of underlying survival distributions, \n",
    "($K$), the distribution choices (Log-Normal or Weibull), the learning rate for the Adam optimizer between $1\\times10^{-3}$ and $1\\times10^{-4}$ and the number of hidden layers between $0, 1$ and $2$."
   ]
  },
  {
   "cell_type": "code",
   "execution_count": 5,
   "metadata": {},
   "outputs": [],
   "source": [
    "from sklearn.model_selection import ParameterGrid"
   ]
  },
  {
   "cell_type": "code",
   "execution_count": 6,
   "metadata": {},
   "outputs": [],
   "source": [
    "param_grid = {'k' : [3, 4, 6],\n",
    "              'distribution' : ['LogNormal', 'Weibull'],\n",
    "              'learning_rate' : [ 1e-4, 1e-3],\n",
    "              'layers' : [ [], [100], [100, 100] ]\n",
    "             }\n",
    "params = ParameterGrid(param_grid)"
   ]
  },
  {
   "cell_type": "markdown",
   "metadata": {},
   "source": [
    "### Model Training and Selection"
   ]
  },
  {
   "cell_type": "code",
   "execution_count": 7,
   "metadata": {},
   "outputs": [],
   "source": [
    "from auton_survival.models.dsm import DeepSurvivalMachines"
   ]
  },
  {
   "cell_type": "code",
   "execution_count": null,
   "metadata": {},
   "outputs": [],
   "source": [
    "model = DeepSurvivalMachines(k = 3, distribution = 'LogNormal', layers = [100])"
   ]
  },
  {
   "cell_type": "code",
   "execution_count": 8,
   "metadata": {
    "scrolled": true
   },
   "outputs": [
    {
     "name": "stderr",
     "output_type": "stream",
     "text": [
      " 12%|█▏        | 1190/10000 [00:02<00:17, 507.28it/s]\n",
      "100%|██████████| 100/100 [00:47<00:00,  2.12it/s]\n",
      " 12%|█▏        | 1190/10000 [00:02<00:16, 531.96it/s]\n",
      " 59%|█████▉    | 59/100 [00:30<00:21,  1.93it/s]\n",
      " 12%|█▏        | 1190/10000 [00:02<00:14, 589.81it/s]\n",
      " 92%|█████████▏| 92/100 [00:48<00:04,  1.89it/s]\n",
      " 12%|█▏        | 1190/10000 [00:02<00:16, 534.82it/s]\n",
      " 23%|██▎       | 23/100 [00:12<00:41,  1.85it/s]\n",
      " 12%|█▏        | 1190/10000 [00:02<00:16, 528.66it/s]\n",
      " 60%|██████    | 60/100 [00:33<00:22,  1.79it/s]\n",
      " 12%|█▏        | 1190/10000 [00:02<00:19, 446.38it/s]\n",
      " 16%|█▌        | 16/100 [00:09<00:49,  1.70it/s]\n",
      " 12%|█▏        | 1190/10000 [00:02<00:16, 542.11it/s]\n",
      "100%|██████████| 100/100 [00:52<00:00,  1.89it/s]\n",
      " 12%|█▏        | 1190/10000 [00:02<00:16, 520.13it/s]\n",
      " 59%|█████▉    | 59/100 [00:31<00:21,  1.87it/s]\n",
      " 12%|█▏        | 1190/10000 [00:02<00:15, 556.52it/s]\n",
      "100%|██████████| 100/100 [00:55<00:00,  1.81it/s]\n",
      " 12%|█▏        | 1190/10000 [00:02<00:16, 526.33it/s]\n",
      " 40%|████      | 40/100 [00:22<00:33,  1.77it/s]\n",
      " 12%|█▏        | 1190/10000 [00:02<00:16, 525.63it/s]\n",
      " 60%|██████    | 60/100 [00:35<00:23,  1.70it/s]\n",
      " 12%|█▏        | 1190/10000 [00:02<00:16, 543.34it/s]\n",
      " 27%|██▋       | 27/100 [00:16<00:44,  1.65it/s]\n",
      " 12%|█▏        | 1190/10000 [00:02<00:16, 534.58it/s]\n",
      "100%|██████████| 100/100 [01:02<00:00,  1.59it/s]\n",
      " 12%|█▏        | 1190/10000 [00:02<00:17, 515.41it/s]\n",
      " 59%|█████▉    | 59/100 [00:37<00:25,  1.59it/s]\n",
      " 12%|█▏        | 1190/10000 [00:02<00:16, 518.78it/s]\n",
      " 92%|█████████▏| 92/100 [01:00<00:05,  1.53it/s]\n",
      " 12%|█▏        | 1190/10000 [00:02<00:15, 555.74it/s]\n",
      " 23%|██▎       | 23/100 [00:15<00:51,  1.50it/s]\n",
      " 12%|█▏        | 1190/10000 [00:02<00:16, 527.48it/s]\n",
      " 75%|███████▌  | 75/100 [00:51<00:17,  1.46it/s]\n",
      " 12%|█▏        | 1190/10000 [00:02<00:16, 532.20it/s]\n",
      " 16%|█▌        | 16/100 [00:11<01:00,  1.39it/s]\n",
      " 18%|█▊        | 1797/10000 [00:03<00:17, 478.92it/s]\n",
      "100%|██████████| 100/100 [00:46<00:00,  2.14it/s]\n",
      " 18%|█▊        | 1797/10000 [00:03<00:17, 472.54it/s]\n",
      " 92%|█████████▏| 92/100 [00:44<00:03,  2.08it/s]\n",
      " 18%|█▊        | 1797/10000 [00:03<00:17, 472.05it/s]\n",
      " 93%|█████████▎| 93/100 [00:47<00:03,  1.97it/s]\n",
      " 18%|█▊        | 1797/10000 [00:03<00:17, 462.95it/s]\n",
      " 23%|██▎       | 23/100 [00:11<00:39,  1.97it/s]\n",
      " 18%|█▊        | 1797/10000 [00:03<00:16, 483.71it/s]\n",
      " 58%|█████▊    | 58/100 [00:33<00:23,  1.76it/s]\n",
      " 18%|█▊        | 1797/10000 [00:03<00:17, 480.42it/s]\n",
      " 14%|█▍        | 14/100 [00:08<00:49,  1.75it/s]\n",
      " 18%|█▊        | 1797/10000 [00:03<00:17, 478.96it/s]\n",
      "100%|██████████| 100/100 [00:52<00:00,  1.92it/s]\n",
      " 18%|█▊        | 1797/10000 [00:03<00:16, 487.50it/s]\n",
      "100%|██████████| 100/100 [00:50<00:00,  1.98it/s]\n",
      " 18%|█▊        | 1797/10000 [00:03<00:17, 469.71it/s]\n",
      " 71%|███████   | 71/100 [00:37<00:15,  1.87it/s]\n",
      " 18%|█▊        | 1797/10000 [00:03<00:17, 480.99it/s]\n",
      " 43%|████▎     | 43/100 [00:23<00:31,  1.84it/s]\n",
      " 18%|█▊        | 1797/10000 [00:03<00:17, 476.16it/s]\n",
      " 70%|███████   | 70/100 [00:40<00:17,  1.75it/s]\n",
      " 18%|█▊        | 1797/10000 [00:03<00:17, 473.78it/s]\n",
      "  9%|▉         | 9/100 [00:05<00:56,  1.62it/s]\n",
      " 18%|█▊        | 1797/10000 [00:03<00:16, 490.15it/s]\n",
      "100%|██████████| 100/100 [01:01<00:00,  1.64it/s]\n",
      " 18%|█▊        | 1797/10000 [00:03<00:16, 490.15it/s]\n",
      "100%|██████████| 100/100 [00:58<00:00,  1.71it/s]\n",
      " 18%|█▊        | 1797/10000 [00:03<00:16, 485.66it/s]\n",
      " 67%|██████▋   | 67/100 [00:41<00:20,  1.60it/s]\n",
      " 18%|█▊        | 1797/10000 [00:03<00:16, 488.56it/s]\n",
      " 17%|█▋        | 17/100 [00:10<00:53,  1.56it/s]\n",
      " 18%|█▊        | 1797/10000 [00:03<00:16, 489.89it/s]\n",
      " 60%|██████    | 60/100 [00:39<00:26,  1.53it/s]\n",
      " 18%|█▊        | 1797/10000 [00:03<00:17, 482.15it/s]\n",
      "  9%|▉         | 9/100 [00:06<01:04,  1.40it/s]\n"
     ]
    }
   ],
   "source": [
    "models = []\n",
    "for param in params:\n",
    "    model = DeepSurvivalMachines(k = param['k'],\n",
    "                                 distribution = param['distribution'],\n",
    "                                 layers = param['layers'])\n",
    "    # The fit method is called to train the model\n",
    "    model.fit(x_train, t_train, e_train, iters = 100, learning_rate = param['learning_rate'])\n",
    "    models.append([[model.compute_nll(x_val, t_val, e_val), model]])\n",
    "best_model = min(models)\n",
    "model = best_model[0][1]"
   ]
  },
  {
   "cell_type": "code",
   "execution_count": 15,
   "metadata": {},
   "outputs": [
    {
     "name": "stdout",
     "output_type": "stream",
     "text": [
      "best model parameters: \n",
      "number of cluster:  3\n",
      "number of layers:  [100, 100]\n",
      "distribution:  LogNormal\n"
     ]
    }
   ],
   "source": [
    "print(\"best model parameters: \")\n",
    "print(\"number of cluster: \", model.k)\n",
    "print(\"number of layers: \", model.layers)\n",
    "print(\"distribution: \", model.dist)"
   ]
  },
  {
   "cell_type": "markdown",
   "metadata": {},
   "source": [
    "### Inference"
   ]
  },
  {
   "cell_type": "code",
   "execution_count": 9,
   "metadata": {},
   "outputs": [],
   "source": [
    "out_risk = model.predict_risk(x_test, times)\n",
    "out_survival = model.predict_survival(x_test, times)"
   ]
  },
  {
   "cell_type": "code",
   "execution_count": 19,
   "metadata": {},
   "outputs": [],
   "source": [
    "import torch\n",
    "x = x_test\n",
    "x_nm = (x - x.min(axis=0)) / (x.max(axis=0) - x.min(axis=0))\n",
    "x, x_nm = torch.from_numpy(x), torch.from_numpy(x_nm)\n",
    "_, _, z, _, _ = model.torch_model.forward(x, x_nm, '1')"
   ]
  },
  {
   "cell_type": "code",
   "execution_count": 26,
   "metadata": {},
   "outputs": [],
   "source": [
    "z_label = torch.argmax(z, dim=1).detach().numpy()\n",
    "\n",
    "np.save('input_data.npy', x_test)\n",
    "np.save('cluster_label.npy', z_label)\n"
   ]
  },
  {
   "cell_type": "code",
   "execution_count": 10,
   "metadata": {},
   "outputs": [],
   "source": [
    "from sksurv.metrics import concordance_index_ipcw, brier_score, cumulative_dynamic_auc"
   ]
  },
  {
   "cell_type": "code",
   "execution_count": 11,
   "metadata": {},
   "outputs": [
    {
     "name": "stdout",
     "output_type": "stream",
     "text": [
      "For 0.25 quantile,\n",
      "TD Concordance Index: 0.7554745214216302\n",
      "Brier Score: 0.11178738443100705\n",
      "ROC AUC  0.7601099745873505 \n",
      "\n",
      "For 0.5 quantile,\n",
      "TD Concordance Index: 0.6959344863628296\n",
      "Brier Score: 0.18366434431886167\n",
      "ROC AUC  0.7162869999296915 \n",
      "\n",
      "For 0.75 quantile,\n",
      "TD Concordance Index: 0.6510637288859005\n",
      "Brier Score: 0.22139458599332576\n",
      "ROC AUC  0.70102380808142 \n",
      "\n"
     ]
    }
   ],
   "source": [
    "cis = []\n",
    "brs = []\n",
    "\n",
    "et_train = np.array([(e_train[i], t_train[i]) for i in range(len(e_train))],\n",
    "                 dtype = [('e', bool), ('t', float)])\n",
    "et_test = np.array([(e_test[i], t_test[i]) for i in range(len(e_test))],\n",
    "                 dtype = [('e', bool), ('t', float)])\n",
    "et_val = np.array([(e_val[i], t_val[i]) for i in range(len(e_val))],\n",
    "                 dtype = [('e', bool), ('t', float)])\n",
    "\n",
    "for i, _ in enumerate(times):\n",
    "    cis.append(concordance_index_ipcw(et_train, et_test, out_risk[:, i], times[i])[0])\n",
    "brs.append(brier_score(et_train, et_test, out_survival, times)[1])\n",
    "roc_auc = []\n",
    "for i, _ in enumerate(times):\n",
    "    roc_auc.append(cumulative_dynamic_auc(et_train, et_test, out_risk[:, i], times[i])[0])\n",
    "for horizon in enumerate(horizons):\n",
    "    print(f\"For {horizon[1]} quantile,\")\n",
    "    print(\"TD Concordance Index:\", cis[horizon[0]])\n",
    "    print(\"Brier Score:\", brs[0][horizon[0]])\n",
    "    print(\"ROC AUC \", roc_auc[horizon[0]][0], \"\\n\")"
   ]
  },
  {
   "cell_type": "code",
   "execution_count": null,
   "metadata": {},
   "outputs": [],
   "source": []
  }
 ],
 "metadata": {
  "kernelspec": {
   "display_name": "Python 3 (ipykernel)",
   "language": "python",
   "name": "python3"
  },
  "language_info": {
   "codemirror_mode": {
    "name": "ipython",
    "version": 3
   },
   "file_extension": ".py",
   "mimetype": "text/x-python",
   "name": "python",
   "nbconvert_exporter": "python",
   "pygments_lexer": "ipython3",
   "version": "3.8.5"
  }
 },
 "nbformat": 4,
 "nbformat_minor": 4
}
