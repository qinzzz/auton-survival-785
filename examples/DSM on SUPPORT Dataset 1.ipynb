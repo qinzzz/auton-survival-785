{
 "cells": [
  {
   "cell_type": "markdown",
   "metadata": {},
   "source": [
    "# DSM on SUPPORT Dataset"
   ]
  },
  {
   "cell_type": "markdown",
   "metadata": {},
   "source": [
    "The SUPPORT dataset comes from the Vanderbilt University study\n",
    "to estimate survival for seriously ill hospitalized adults.\n",
    "(Refer to http://biostat.mc.vanderbilt.edu/wiki/Main/SupportDesc.\n",
    "for the original datasource.)\n",
    "\n",
    "In this notebook, we will apply Deep Survival Machines for survival prediction on the SUPPORT data."
   ]
  },
  {
   "cell_type": "markdown",
   "metadata": {},
   "source": [
    "### Load the SUPPORT Dataset\n",
    "\n",
    "The package includes helper functions to load the dataset.\n",
    "\n",
    "X represents an np.array of features (covariates),\n",
    "T is the event/censoring times and,\n",
    "E is the censoring indicator."
   ]
  },
  {
   "cell_type": "code",
   "execution_count": 1,
   "metadata": {},
   "outputs": [
    {
     "name": "stdout",
     "output_type": "stream",
     "text": [
      "['c:\\\\Users\\\\oli30\\\\Desktop\\\\11785_Intro_to_DL\\\\project\\\\auton-survival-785\\\\examples', 'C:\\\\Users\\\\oli30\\\\anaconda3\\\\python38.zip', 'C:\\\\Users\\\\oli30\\\\anaconda3\\\\DLLs', 'C:\\\\Users\\\\oli30\\\\anaconda3\\\\lib', 'C:\\\\Users\\\\oli30\\\\anaconda3', '', 'C:\\\\Users\\\\oli30\\\\anaconda3\\\\lib\\\\site-packages', 'C:\\\\Users\\\\oli30\\\\anaconda3\\\\lib\\\\site-packages\\\\win32', 'C:\\\\Users\\\\oli30\\\\anaconda3\\\\lib\\\\site-packages\\\\win32\\\\lib', 'C:\\\\Users\\\\oli30\\\\anaconda3\\\\lib\\\\site-packages\\\\Pythonwin', 'C:\\\\Users\\\\oli30\\\\AppData\\\\Roaming\\\\Python\\\\Python38\\\\site-packages', '../', '../']\n"
     ]
    }
   ],
   "source": [
    "import sys\n",
    "\n",
    "sys.path.append('../')\n",
    "from auton_survival import datasets\n",
    "outcomes, features = datasets.load_support()"
   ]
  },
  {
   "cell_type": "code",
   "execution_count": 5,
   "metadata": {},
   "outputs": [
    {
     "ename": "AssertionError",
     "evalue": "Passed columns don't     match columns trained on !!! ",
     "output_type": "error",
     "traceback": [
      "\u001b[1;31m---------------------------------------------------------------------------\u001b[0m",
      "\u001b[1;31mAssertionError\u001b[0m                            Traceback (most recent call last)",
      "\u001b[1;32mc:\\Users\\oli30\\Desktop\\11785_Intro_to_DL\\project\\auton-survival-785\\examples\\DSM on SUPPORT Dataset.ipynb Cell 5'\u001b[0m in \u001b[0;36m<cell line: 7>\u001b[1;34m()\u001b[0m\n\u001b[0;32m      <a href='vscode-notebook-cell:/c%3A/Users/oli30/Desktop/11785_Intro_to_DL/project/auton-survival-785/examples/DSM%20on%20SUPPORT%20Dataset.ipynb#ch0000004?line=1'>2</a>\u001b[0m cat_feats \u001b[39m=\u001b[39m [\u001b[39m'\u001b[39m\u001b[39msex\u001b[39m\u001b[39m'\u001b[39m, \u001b[39m'\u001b[39m\u001b[39mdzgroup\u001b[39m\u001b[39m'\u001b[39m, \u001b[39m'\u001b[39m\u001b[39mdzclass\u001b[39m\u001b[39m'\u001b[39m, \u001b[39m'\u001b[39m\u001b[39mincome\u001b[39m\u001b[39m'\u001b[39m, \u001b[39m'\u001b[39m\u001b[39mrace\u001b[39m\u001b[39m'\u001b[39m, \u001b[39m'\u001b[39m\u001b[39mca\u001b[39m\u001b[39m'\u001b[39m]\n\u001b[0;32m      <a href='vscode-notebook-cell:/c%3A/Users/oli30/Desktop/11785_Intro_to_DL/project/auton-survival-785/examples/DSM%20on%20SUPPORT%20Dataset.ipynb#ch0000004?line=2'>3</a>\u001b[0m num_feats \u001b[39m=\u001b[39m [\u001b[39m'\u001b[39m\u001b[39mage\u001b[39m\u001b[39m'\u001b[39m, \u001b[39m'\u001b[39m\u001b[39mnum.co\u001b[39m\u001b[39m'\u001b[39m, \u001b[39m'\u001b[39m\u001b[39mmeanbp\u001b[39m\u001b[39m'\u001b[39m, \u001b[39m'\u001b[39m\u001b[39mwblc\u001b[39m\u001b[39m'\u001b[39m, \u001b[39m'\u001b[39m\u001b[39mhrt\u001b[39m\u001b[39m'\u001b[39m, \u001b[39m'\u001b[39m\u001b[39mresp\u001b[39m\u001b[39m'\u001b[39m, \n\u001b[0;32m      <a href='vscode-notebook-cell:/c%3A/Users/oli30/Desktop/11785_Intro_to_DL/project/auton-survival-785/examples/DSM%20on%20SUPPORT%20Dataset.ipynb#ch0000004?line=3'>4</a>\u001b[0m \t     \u001b[39m'\u001b[39m\u001b[39mtemp\u001b[39m\u001b[39m'\u001b[39m, \u001b[39m'\u001b[39m\u001b[39mpafi\u001b[39m\u001b[39m'\u001b[39m, \u001b[39m'\u001b[39m\u001b[39malb\u001b[39m\u001b[39m'\u001b[39m, \u001b[39m'\u001b[39m\u001b[39mbili\u001b[39m\u001b[39m'\u001b[39m, \u001b[39m'\u001b[39m\u001b[39mcrea\u001b[39m\u001b[39m'\u001b[39m, \u001b[39m'\u001b[39m\u001b[39msod\u001b[39m\u001b[39m'\u001b[39m, \u001b[39m'\u001b[39m\u001b[39mph\u001b[39m\u001b[39m'\u001b[39m, \n\u001b[0;32m      <a href='vscode-notebook-cell:/c%3A/Users/oli30/Desktop/11785_Intro_to_DL/project/auton-survival-785/examples/DSM%20on%20SUPPORT%20Dataset.ipynb#ch0000004?line=4'>5</a>\u001b[0m              \u001b[39m'\u001b[39m\u001b[39mglucose\u001b[39m\u001b[39m'\u001b[39m, \u001b[39m'\u001b[39m\u001b[39mbun\u001b[39m\u001b[39m'\u001b[39m, \u001b[39m'\u001b[39m\u001b[39murine\u001b[39m\u001b[39m'\u001b[39m, \u001b[39m'\u001b[39m\u001b[39madlp\u001b[39m\u001b[39m'\u001b[39m, \u001b[39m'\u001b[39m\u001b[39madls\u001b[39m\u001b[39m'\u001b[39m]\n\u001b[1;32m----> <a href='vscode-notebook-cell:/c%3A/Users/oli30/Desktop/11785_Intro_to_DL/project/auton-survival-785/examples/DSM%20on%20SUPPORT%20Dataset.ipynb#ch0000004?line=6'>7</a>\u001b[0m features \u001b[39m=\u001b[39m Preprocessor()\u001b[39m.\u001b[39;49mfit_transform(features, cat_feats\u001b[39m=\u001b[39;49mcat_feats, num_feats\u001b[39m=\u001b[39;49mnum_feats)\n",
      "File \u001b[1;32mc:\\Users\\oli30\\Desktop\\11785_Intro_to_DL\\project\\auton-survival-785\\auton_survival\\preprocessing.py:366\u001b[0m, in \u001b[0;36mPreprocessor.fit_transform\u001b[1;34m(self, data, cat_feats, num_feats, fill_value, n_neighbors, **kwargs)\u001b[0m\n\u001b[0;32m    <a href='file:///c%3A/Users/oli30/Desktop/11785_Intro_to_DL/project/auton-survival-785/auton_survival/preprocessing.py?line=339'>340</a>\u001b[0m \u001b[39mdef\u001b[39;00m \u001b[39mfit_transform\u001b[39m(\u001b[39mself\u001b[39m, data, cat_feats, num_feats, \n\u001b[0;32m    <a href='file:///c%3A/Users/oli30/Desktop/11785_Intro_to_DL/project/auton-survival-785/auton_survival/preprocessing.py?line=340'>341</a>\u001b[0m                   fill_value\u001b[39m=\u001b[39m\u001b[39m-\u001b[39m\u001b[39m1\u001b[39m, n_neighbors\u001b[39m=\u001b[39m\u001b[39m5\u001b[39m, \u001b[39m*\u001b[39m\u001b[39m*\u001b[39mkwargs):\n\u001b[0;32m    <a href='file:///c%3A/Users/oli30/Desktop/11785_Intro_to_DL/project/auton-survival-785/auton_survival/preprocessing.py?line=341'>342</a>\u001b[0m   \u001b[39m\"\"\"Imputes and scales dataset.\u001b[39;00m\n\u001b[0;32m    <a href='file:///c%3A/Users/oli30/Desktop/11785_Intro_to_DL/project/auton-survival-785/auton_survival/preprocessing.py?line=342'>343</a>\u001b[0m \n\u001b[0;32m    <a href='file:///c%3A/Users/oli30/Desktop/11785_Intro_to_DL/project/auton-survival-785/auton_survival/preprocessing.py?line=343'>344</a>\u001b[0m \u001b[39m  Parameters\u001b[39;00m\n\u001b[1;32m   (...)\u001b[0m\n\u001b[0;32m    <a href='file:///c%3A/Users/oli30/Desktop/11785_Intro_to_DL/project/auton-survival-785/auton_survival/preprocessing.py?line=362'>363</a>\u001b[0m \u001b[39m      pandas.DataFrame: Imputed and scaled dataset.\u001b[39;00m\n\u001b[0;32m    <a href='file:///c%3A/Users/oli30/Desktop/11785_Intro_to_DL/project/auton-survival-785/auton_survival/preprocessing.py?line=363'>364</a>\u001b[0m \u001b[39m  \"\"\"\u001b[39;00m\n\u001b[1;32m--> <a href='file:///c%3A/Users/oli30/Desktop/11785_Intro_to_DL/project/auton-survival-785/auton_survival/preprocessing.py?line=365'>366</a>\u001b[0m   imputer_output \u001b[39m=\u001b[39m \u001b[39mself\u001b[39;49m\u001b[39m.\u001b[39;49mimputer\u001b[39m.\u001b[39;49mfit_transform(data,\n\u001b[0;32m    <a href='file:///c%3A/Users/oli30/Desktop/11785_Intro_to_DL/project/auton-survival-785/auton_survival/preprocessing.py?line=366'>367</a>\u001b[0m                                               cat_feats\u001b[39m=\u001b[39;49mcat_feats,\n\u001b[0;32m    <a href='file:///c%3A/Users/oli30/Desktop/11785_Intro_to_DL/project/auton-survival-785/auton_survival/preprocessing.py?line=367'>368</a>\u001b[0m                                               num_feats\u001b[39m=\u001b[39;49mnum_feats,\n\u001b[0;32m    <a href='file:///c%3A/Users/oli30/Desktop/11785_Intro_to_DL/project/auton-survival-785/auton_survival/preprocessing.py?line=368'>369</a>\u001b[0m                                               fill_value\u001b[39m=\u001b[39;49mfill_value,\n\u001b[0;32m    <a href='file:///c%3A/Users/oli30/Desktop/11785_Intro_to_DL/project/auton-survival-785/auton_survival/preprocessing.py?line=369'>370</a>\u001b[0m                                               n_neighbors\u001b[39m=\u001b[39;49mn_neighbors,\n\u001b[0;32m    <a href='file:///c%3A/Users/oli30/Desktop/11785_Intro_to_DL/project/auton-survival-785/auton_survival/preprocessing.py?line=370'>371</a>\u001b[0m                                               \u001b[39m*\u001b[39;49m\u001b[39m*\u001b[39;49mkwargs)\n\u001b[0;32m    <a href='file:///c%3A/Users/oli30/Desktop/11785_Intro_to_DL/project/auton-survival-785/auton_survival/preprocessing.py?line=371'>372</a>\u001b[0m   output \u001b[39m=\u001b[39m \u001b[39mself\u001b[39m\u001b[39m.\u001b[39mscaler\u001b[39m.\u001b[39mfit_transform(imputer_output, num_feats\u001b[39m=\u001b[39mnum_feats)\n\u001b[0;32m    <a href='file:///c%3A/Users/oli30/Desktop/11785_Intro_to_DL/project/auton-survival-785/auton_survival/preprocessing.py?line=373'>374</a>\u001b[0m   \u001b[39mif\u001b[39;00m \u001b[39mself\u001b[39m\u001b[39m.\u001b[39mone_hot:\n",
      "File \u001b[1;32mc:\\Users\\oli30\\Desktop\\11785_Intro_to_DL\\project\\auton-survival-785\\auton_survival\\preprocessing.py:152\u001b[0m, in \u001b[0;36mImputer.fit_transform\u001b[1;34m(self, data, cat_feats, num_feats, fill_value, n_neighbors, **kwargs)\u001b[0m\n\u001b[0;32m    <a href='file:///c%3A/Users/oli30/Desktop/11785_Intro_to_DL/project/auton-survival-785/auton_survival/preprocessing.py?line=127'>128</a>\u001b[0m \u001b[39mdef\u001b[39;00m \u001b[39mfit_transform\u001b[39m(\u001b[39mself\u001b[39m, data, cat_feats, num_feats,\n\u001b[0;32m    <a href='file:///c%3A/Users/oli30/Desktop/11785_Intro_to_DL/project/auton-survival-785/auton_survival/preprocessing.py?line=128'>129</a>\u001b[0m                         fill_value\u001b[39m=\u001b[39m\u001b[39m-\u001b[39m\u001b[39m1\u001b[39m, n_neighbors\u001b[39m=\u001b[39m\u001b[39m5\u001b[39m, \u001b[39m*\u001b[39m\u001b[39m*\u001b[39mkwargs):\n\u001b[0;32m    <a href='file:///c%3A/Users/oli30/Desktop/11785_Intro_to_DL/project/auton-survival-785/auton_survival/preprocessing.py?line=130'>131</a>\u001b[0m   \u001b[39m\"\"\"Imputes dataset using imputation strategies.\u001b[39;00m\n\u001b[0;32m    <a href='file:///c%3A/Users/oli30/Desktop/11785_Intro_to_DL/project/auton-survival-785/auton_survival/preprocessing.py?line=131'>132</a>\u001b[0m \n\u001b[0;32m    <a href='file:///c%3A/Users/oli30/Desktop/11785_Intro_to_DL/project/auton-survival-785/auton_survival/preprocessing.py?line=132'>133</a>\u001b[0m \u001b[39m  Parameters\u001b[39;00m\n\u001b[1;32m   (...)\u001b[0m\n\u001b[0;32m    <a href='file:///c%3A/Users/oli30/Desktop/11785_Intro_to_DL/project/auton-survival-785/auton_survival/preprocessing.py?line=148'>149</a>\u001b[0m \u001b[39m      pandas.DataFrame: Imputed dataset.\u001b[39;00m\n\u001b[0;32m    <a href='file:///c%3A/Users/oli30/Desktop/11785_Intro_to_DL/project/auton-survival-785/auton_survival/preprocessing.py?line=149'>150</a>\u001b[0m \u001b[39m  \"\"\"\u001b[39;00m\n\u001b[1;32m--> <a href='file:///c%3A/Users/oli30/Desktop/11785_Intro_to_DL/project/auton-survival-785/auton_survival/preprocessing.py?line=151'>152</a>\u001b[0m   \u001b[39mreturn\u001b[39;00m \u001b[39mself\u001b[39;49m\u001b[39m.\u001b[39;49mfit(data, cat_feats\u001b[39m=\u001b[39;49mcat_feats,\n\u001b[0;32m    <a href='file:///c%3A/Users/oli30/Desktop/11785_Intro_to_DL/project/auton-survival-785/auton_survival/preprocessing.py?line=152'>153</a>\u001b[0m                         num_feats\u001b[39m=\u001b[39;49mnum_feats,\n\u001b[0;32m    <a href='file:///c%3A/Users/oli30/Desktop/11785_Intro_to_DL/project/auton-survival-785/auton_survival/preprocessing.py?line=153'>154</a>\u001b[0m                         fill_value\u001b[39m=\u001b[39;49mfill_value)\u001b[39m.\u001b[39;49mtransform(data)\n",
      "File \u001b[1;32mc:\\Users\\oli30\\Desktop\\11785_Intro_to_DL\\project\\auton-survival-785\\auton_survival\\preprocessing.py:113\u001b[0m, in \u001b[0;36mImputer.transform\u001b[1;34m(self, data)\u001b[0m\n\u001b[0;32m    <a href='file:///c%3A/Users/oli30/Desktop/11785_Intro_to_DL/project/auton-survival-785/auton_survival/preprocessing.py?line=109'>110</a>\u001b[0m \u001b[39mdef\u001b[39;00m \u001b[39mtransform\u001b[39m(\u001b[39mself\u001b[39m, data):\n\u001b[0;32m    <a href='file:///c%3A/Users/oli30/Desktop/11785_Intro_to_DL/project/auton-survival-785/auton_survival/preprocessing.py?line=111'>112</a>\u001b[0m   all_feats \u001b[39m=\u001b[39m \u001b[39mself\u001b[39m\u001b[39m.\u001b[39m_cat_feats \u001b[39m+\u001b[39m \u001b[39mself\u001b[39m\u001b[39m.\u001b[39m_num_feats\n\u001b[1;32m--> <a href='file:///c%3A/Users/oli30/Desktop/11785_Intro_to_DL/project/auton-survival-785/auton_survival/preprocessing.py?line=112'>113</a>\u001b[0m   \u001b[39massert\u001b[39;00m \u001b[39mlen\u001b[39m(\u001b[39mset\u001b[39m(data\u001b[39m.\u001b[39mcolumns)\u001b[39m^\u001b[39m\u001b[39mset\u001b[39m(all_feats)) \u001b[39m==\u001b[39m \u001b[39m0\u001b[39m, \u001b[39m\"\u001b[39m\u001b[39mPassed columns don\u001b[39m\u001b[39m'\u001b[39m\u001b[39mt \u001b[39m\u001b[39m\\\u001b[39;00m\n\u001b[0;32m    <a href='file:///c%3A/Users/oli30/Desktop/11785_Intro_to_DL/project/auton-survival-785/auton_survival/preprocessing.py?line=113'>114</a>\u001b[0m \u001b[39m  match columns trained on !!! \u001b[39m\u001b[39m\"\u001b[39m\n\u001b[0;32m    <a href='file:///c%3A/Users/oli30/Desktop/11785_Intro_to_DL/project/auton-survival-785/auton_survival/preprocessing.py?line=114'>115</a>\u001b[0m   \u001b[39massert\u001b[39;00m \u001b[39mself\u001b[39m\u001b[39m.\u001b[39mfitted, \u001b[39m\"\u001b[39m\u001b[39mModel is not fitted yet !!!\u001b[39m\u001b[39m\"\u001b[39m\n\u001b[0;32m    <a href='file:///c%3A/Users/oli30/Desktop/11785_Intro_to_DL/project/auton-survival-785/auton_survival/preprocessing.py?line=116'>117</a>\u001b[0m   df \u001b[39m=\u001b[39m data\u001b[39m.\u001b[39mcopy()\n",
      "\u001b[1;31mAssertionError\u001b[0m: Passed columns don't     match columns trained on !!! "
     ]
    }
   ],
   "source": [
    "from auton_survival.preprocessing import Preprocessor\n",
    "cat_feats = ['sex', 'dzgroup', 'dzclass', 'income', 'race', 'ca']\n",
    "num_feats = ['age', 'num.co', 'meanbp', 'wblc', 'hrt', 'resp', \n",
    "\t     'temp', 'pafi', 'alb', 'bili', 'crea', 'sod', 'ph', \n",
    "             'glucose', 'bun', 'urine', 'adlp', 'adls']\n",
    "\n",
    "features = Preprocessor().fit_transform(features, cat_feats=cat_feats, num_feats=num_feats)\n",
    "print(features.shape)"
   ]
  },
  {
   "cell_type": "markdown",
   "metadata": {},
   "source": [
    "### Compute horizons at which we evaluate the performance of DSM\n",
    "\n",
    "Survival predictions are issued at certain time horizons. Here we will evaluate the performance\n",
    "of DSM to issue predictions at the 25th, 50th and 75th event time quantile as is standard practice in Survival Analysis."
   ]
  },
  {
   "cell_type": "code",
   "execution_count": null,
   "metadata": {},
   "outputs": [],
   "source": [
    "import numpy as np\n",
    "horizons = [0.25, 0.5, 0.75]\n",
    "times = np.quantile(outcomes.time[outcomes.event==1], horizons).tolist()\n",
    "times"
   ]
  },
  {
   "cell_type": "markdown",
   "metadata": {},
   "source": [
    "### Splitting the data into train, test and validation sets\n",
    "\n",
    "We will train DSM on 70% of the Data, use a Validation set of 10% for Model Selection and report performance on the remaining 20% held out test set."
   ]
  },
  {
   "cell_type": "code",
   "execution_count": null,
   "metadata": {},
   "outputs": [],
   "source": [
    "x, t, e = features.values, outcomes.time.values, outcomes.event.values\n",
    "\n",
    "n = len(x)\n",
    "\n",
    "tr_size = int(n*0.70)\n",
    "vl_size = int(n*0.10)\n",
    "te_size = int(n*0.20)\n",
    "\n",
    "x_train, x_test, x_val = x[:tr_size], x[-te_size:], x[tr_size:tr_size+vl_size]\n",
    "t_train, t_test, t_val = t[:tr_size], t[-te_size:], t[tr_size:tr_size+vl_size]\n",
    "e_train, e_test, e_val = e[:tr_size], e[-te_size:], e[tr_size:tr_size+vl_size]"
   ]
  },
  {
   "cell_type": "code",
   "execution_count": null,
   "metadata": {},
   "outputs": [],
   "source": [
    "# visualize\n",
    "from sklearn.manifold import TSNE\n",
    "import seaborn as sns\n",
    "import matplotlib.pyplot as plt \n",
    "import pandas as pd\n",
    "\n",
    "tsne = TSNE(n_components=2)\n",
    "X_tsne = tsne.fit_transform(x_train, verbose=1)\n",
    "df_tsne = pd.DataFrame(X_tsne)"
   ]
  },
  {
   "cell_type": "code",
   "execution_count": null,
   "metadata": {},
   "outputs": [],
   "source": [
    "df_tsne.head()"
   ]
  },
  {
   "cell_type": "code",
   "execution_count": null,
   "metadata": {},
   "outputs": [],
   "source": [
    "%matplotlib inline\n",
    "\n",
    "plt.figure(figsize=(8, 8))\n",
    "sns.scatterplot(data=df_tsne, x=0, y=1)\n",
    "plt.show()"
   ]
  },
  {
   "cell_type": "code",
   "execution_count": null,
   "metadata": {},
   "outputs": [],
   "source": [
    "# data\n",
    "print(x_train.shape)\n",
    "print(x_train[0])"
   ]
  },
  {
   "cell_type": "code",
   "execution_count": null,
   "metadata": {},
   "outputs": [],
   "source": [
    "print(t_train.shape)\n",
    "print(t_train[:10])"
   ]
  },
  {
   "cell_type": "code",
   "execution_count": null,
   "metadata": {},
   "outputs": [],
   "source": [
    "print(e_train.shape)\n",
    "print(e_train[:10])"
   ]
  },
  {
   "cell_type": "code",
   "execution_count": null,
   "metadata": {},
   "outputs": [],
   "source": [
    "x_train = (x_train-x_train.min()) / (x_train.max()-x_train.min())\n",
    "x_val = (x_val-x_val.min()) / (x_val.max()-x_val.min())"
   ]
  },
  {
   "cell_type": "markdown",
   "metadata": {},
   "source": [
    "### Setting the parameter grid\n",
    "\n",
    "Lets set up the parameter grid to tune hyper-parameters. We will tune the number of underlying survival distributions, \n",
    "($K$), the distribution choices (Log-Normal or Weibull), the learning rate for the Adam optimizer between $1\\times10^{-3}$ and $1\\times10^{-4}$ and the number of hidden layers between $0, 1$ and $2$."
   ]
  },
  {
   "cell_type": "code",
   "execution_count": null,
   "metadata": {},
   "outputs": [],
   "source": [
    "from sklearn.model_selection import ParameterGrid"
   ]
  },
  {
   "cell_type": "code",
   "execution_count": null,
   "metadata": {},
   "outputs": [],
   "source": [
    "param_grid = {'k' : [3, 4, 6],\n",
    "              'distribution' : ['LogNormal', 'Weibull'],\n",
    "              'learning_rate' : [ 1e-4, 1e-3],\n",
    "              'layers' : [ [], [100], [100, 100] ]\n",
    "             }\n",
    "params = ParameterGrid(param_grid)"
   ]
  },
  {
   "cell_type": "markdown",
   "metadata": {},
   "source": [
    "### Model Training and Selection"
   ]
  },
  {
   "cell_type": "code",
   "execution_count": null,
   "metadata": {},
   "outputs": [],
   "source": [
    "from auton_survival.models.dsm import DeepSurvivalMachines\n"
   ]
  },
  {
   "cell_type": "code",
   "execution_count": null,
   "metadata": {
    "scrolled": true
   },
   "outputs": [],
   "source": [
    "models = []\n",
    "for param in params:\n",
    "    model = DeepSurvivalMachines(k = param['k'],\n",
    "                                 distribution = param['distribution'],\n",
    "                                 layers = param['layers'])\n",
    "    # The fit method is called to train the model\n",
    "    model.fit(x_train, t_train, e_train, iters = 1, learning_rate = param['learning_rate'])\n",
    "    models.append([[model.compute_nll(x_val, t_val, e_val), model]])\n",
    "best_model = min(models)\n",
    "model = best_model[0][1]"
   ]
  },
  {
   "cell_type": "markdown",
   "metadata": {},
   "source": [
    "### Inference"
   ]
  },
  {
   "cell_type": "code",
   "execution_count": null,
   "metadata": {},
   "outputs": [],
   "source": [
    "out_risk = model.predict_risk(x_test, times)\n",
    "out_survival = model.predict_survival(x_test, times)"
   ]
  },
  {
   "cell_type": "markdown",
   "metadata": {},
   "source": [
    "### Evaluation\n",
    "\n",
    "We evaluate the performance of DSM in its discriminative ability (Time Dependent Concordance Index and Cumulative Dynamic AUC) as well as Brier Score."
   ]
  },
  {
   "cell_type": "code",
   "execution_count": null,
   "metadata": {},
   "outputs": [],
   "source": [
    "from sksurv.metrics import concordance_index_ipcw, brier_score, cumulative_dynamic_auc"
   ]
  },
  {
   "cell_type": "code",
   "execution_count": null,
   "metadata": {},
   "outputs": [],
   "source": [
    "cis = []\n",
    "brs = []\n",
    "\n",
    "et_train = np.array([(e_train[i], t_train[i]) for i in range(len(e_train))],\n",
    "                 dtype = [('e', bool), ('t', float)])\n",
    "et_test = np.array([(e_test[i], t_test[i]) for i in range(len(e_test))],\n",
    "                 dtype = [('e', bool), ('t', float)])\n",
    "et_val = np.array([(e_val[i], t_val[i]) for i in range(len(e_val))],\n",
    "                 dtype = [('e', bool), ('t', float)])\n",
    "\n",
    "for i, _ in enumerate(times):\n",
    "    cis.append(concordance_index_ipcw(et_train, et_test, out_risk[:, i], times[i])[0])\n",
    "brs.append(brier_score(et_train, et_test, out_survival, times)[1])\n",
    "roc_auc = []\n",
    "for i, _ in enumerate(times):\n",
    "    roc_auc.append(cumulative_dynamic_auc(et_train, et_test, out_risk[:, i], times[i])[0])\n",
    "for horizon in enumerate(horizons):\n",
    "    print(f\"For {horizon[1]} quantile,\")\n",
    "    print(\"TD Concordance Index:\", cis[horizon[0]])\n",
    "    print(\"Brier Score:\", brs[0][horizon[0]])\n",
    "    print(\"ROC AUC \", roc_auc[horizon[0]][0], \"\\n\")"
   ]
  },
  {
   "cell_type": "code",
   "execution_count": null,
   "metadata": {},
   "outputs": [],
   "source": []
  }
 ],
 "metadata": {
  "kernelspec": {
   "display_name": "Python 3",
   "language": "python",
   "name": "python3"
  },
  "language_info": {
   "codemirror_mode": {
    "name": "ipython",
    "version": 3
   },
   "file_extension": ".py",
   "mimetype": "text/x-python",
   "name": "python",
   "nbconvert_exporter": "python",
   "pygments_lexer": "ipython3",
   "version": "3.8.5"
  }
 },
 "nbformat": 4,
 "nbformat_minor": 4
}
