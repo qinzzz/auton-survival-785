{
 "cells": [
  {
   "cell_type": "markdown",
   "metadata": {},
   "source": [
    "# DSM on SUPPORT Dataset"
   ]
  },
  {
   "cell_type": "markdown",
   "metadata": {},
   "source": [
    "The SUPPORT dataset comes from the Vanderbilt University study\n",
    "to estimate survival for seriously ill hospitalized adults.\n",
    "(Refer to http://biostat.mc.vanderbilt.edu/wiki/Main/SupportDesc.\n",
    "for the original datasource.)\n",
    "\n",
    "In this notebook, we will apply Deep Survival Machines for survival prediction on the SUPPORT data."
   ]
  },
  {
   "cell_type": "markdown",
   "metadata": {},
   "source": [
    "### Load the SUPPORT Dataset\n",
    "\n",
    "The package includes helper functions to load the dataset.\n",
    "\n",
    "X represents an np.array of features (covariates),\n",
    "T is the event/censoring times and,\n",
    "E is the censoring indicator."
   ]
  },
  {
   "cell_type": "code",
   "execution_count": 7,
   "metadata": {},
   "outputs": [],
   "source": [
    "import sys\n",
    "import torch\n",
    "import torch.nn.functional as F\n",
    "from torch import nn, optim\n",
    "from torch.nn import functional as F\n",
    "from torchvision import datasets, transforms\n",
    "from torchvision.utils import save_image\n",
    "\n",
    "sys.path.append('../')\n",
    "from auton_survival import datasets\n",
    "outcomes, features = datasets.load_support()"
   ]
  },
  {
   "cell_type": "code",
   "execution_count": 2,
   "metadata": {},
   "outputs": [],
   "source": [
    "from auton_survival.preprocessing import Preprocessor\n",
    "cat_feats = ['sex', 'dzgroup', 'dzclass', 'income', 'race', 'ca']\n",
    "num_feats = ['age', 'num.co', 'meanbp', 'wblc', 'hrt', 'resp', \n",
    "\t     'temp', 'pafi', 'alb', 'bili', 'crea', 'sod', 'ph', \n",
    "             'glucose', 'bun', 'urine', 'adlp', 'adls']\n",
    "\n",
    "features = Preprocessor().fit_transform(features, cat_feats=cat_feats, num_feats=num_feats)"
   ]
  },
  {
   "cell_type": "markdown",
   "metadata": {},
   "source": [
    "### Compute horizons at which we evaluate the performance of DSM\n",
    "\n",
    "Survival predictions are issued at certain time horizons. Here we will evaluate the performance\n",
    "of DSM to issue predictions at the 25th, 50th and 75th event time quantile as is standard practice in Survival Analysis."
   ]
  },
  {
   "cell_type": "code",
   "execution_count": 3,
   "metadata": {},
   "outputs": [],
   "source": [
    "import numpy as np\n",
    "horizons = [0.25, 0.5, 0.75]\n",
    "times = np.quantile(outcomes.time[outcomes.event==1], horizons).tolist()"
   ]
  },
  {
   "cell_type": "markdown",
   "metadata": {},
   "source": [
    "### Splitting the data into train, test and validation sets\n",
    "\n",
    "We will train DSM on 70% of the Data, use a Validation set of 10% for Model Selection and report performance on the remaining 20% held out test set."
   ]
  },
  {
   "cell_type": "code",
   "execution_count": 5,
   "metadata": {},
   "outputs": [],
   "source": [
    "x, t, e = features.values, outcomes.time.values, outcomes.event.values\n",
    "\n",
    "n = len(x)\n",
    "\n",
    "tr_size = int(n*0.70)\n",
    "vl_size = int(n*0.10)\n",
    "te_size = int(n*0.20)\n",
    "\n",
    "x_train, x_test, x_val = x[:tr_size], x[-te_size:], x[tr_size:tr_size+vl_size]\n",
    "t_train, t_test, t_val = t[:tr_size], t[-te_size:], t[tr_size:tr_size+vl_size]\n",
    "e_train, e_test, e_val = e[:tr_size], e[-te_size:], e[tr_size:tr_size+vl_size]\n",
    "processed_data = self._preprocess_training_data(x_train, t_train, e_train,\n",
    "                                                    vsize, val_data,\n",
    "                                                    self.random_seed)\n",
    "x_train, t_train, e_train, x_val, t_val, e_val = processed_data"
   ]
  },
  {
   "cell_type": "code",
   "execution_count": 6,
   "metadata": {},
   "outputs": [
    {
     "name": "stdout",
     "output_type": "stream",
     "text": [
      "(6373, 38)\n"
     ]
    }
   ],
   "source": [
    "print(x_train.shape)\n",
    "L=x_train.shape[0]"
   ]
  },
  {
   "cell_type": "markdown",
   "metadata": {},
   "source": [
    "### Setting the parameter grid\n",
    "\n",
    "Lets set up the parameter grid to tune hyper-parameters. We will tune the number of underlying survival distributions, \n",
    "($K$), the distribution choices (Log-Normal or Weibull), the learning rate for the Adam optimizer between $1\\times10^{-3}$ and $1\\times10^{-4}$ and the number of hidden layers between $0, 1$ and $2$."
   ]
  },
  {
   "cell_type": "code",
   "execution_count": 6,
   "metadata": {},
   "outputs": [],
   "source": [
    "# from sklearn.model_selection import ParameterGrid"
   ]
  },
  {
   "cell_type": "code",
   "execution_count": 7,
   "metadata": {},
   "outputs": [],
   "source": [
    "# param_grid = {'k' : [3, 4, 6],\n",
    "#               'distribution' : ['LogNormal', 'Weibull'],\n",
    "#               'learning_rate' : [ 1e-4, 1e-3],\n",
    "#               'layers' : [ [], [100], [100, 100] ]\n",
    "#              }\n",
    "# params = ParameterGrid(param_grid)"
   ]
  },
  {
   "cell_type": "code",
   "execution_count": null,
   "metadata": {},
   "outputs": [],
   "source": [
    "latent_dim = 10\n",
    "categorical_dim = 4\n",
    "temp_min = 0.5\n",
    "ANNEAL_RATE = 0.00003"
   ]
  },
  {
   "cell_type": "markdown",
   "metadata": {},
   "source": [
    "### Model Training and Selection"
   ]
  },
  {
   "cell_type": "code",
   "execution_count": 8,
   "metadata": {},
   "outputs": [],
   "source": [
    "# from auton_survival.models.dsm import DeepSurvivalMachines\n"
   ]
  },
  {
   "cell_type": "code",
   "execution_count": null,
   "metadata": {},
   "outputs": [],
   "source": [
    "def sample_gumbel(shape, eps=1e-20):\n",
    "    U = torch.rand(shape)\n",
    "    if args.cuda:\n",
    "        U = U.cuda()\n",
    "    return -torch.log(-torch.log(U + eps) + eps)\n",
    "\n",
    "\n",
    "def gumbel_softmax_sample(logits, temperature):\n",
    "    y = logits + sample_gumbel(logits.size())\n",
    "    return F.softmax(y / temperature, dim=-1)\n",
    "\n",
    "\n",
    "def gumbel_softmax(logits, temperature, hard=False):\n",
    "    \"\"\"\n",
    "    ST-gumple-softmax\n",
    "    input: [*, n_class]\n",
    "    return: flatten --> [*, n_class] an one-hot vector\n",
    "    \"\"\"\n",
    "    y = gumbel_softmax_sample(logits, temperature)\n",
    "    \n",
    "    if not hard:\n",
    "        return y.view(-1, latent_dim * categorical_dim)\n",
    "\n",
    "    shape = y.size()\n",
    "    _, ind = y.max(dim=-1)\n",
    "    y_hard = torch.zeros_like(y).view(-1, shape[-1])\n",
    "    y_hard.scatter_(1, ind.view(-1, 1), 1)\n",
    "    y_hard = y_hard.view(*shape)\n",
    "    # Set gradients w.r.t. y_hard gradients w.r.t. y\n",
    "    y_hard = (y_hard - y).detach() + y\n",
    "    return y_hard.view(-1, latent_dim * categorical_dim)"
   ]
  },
  {
   "cell_type": "code",
   "execution_count": null,
   "metadata": {},
   "outputs": [],
   "source": [
    "class VAE_gumbel(nn.Module):\n",
    "    def __init__(self, temp):\n",
    "        super(VAE_gumbel, self).__init__()\n",
    "\n",
    "        self.fc1 = nn.Linear(38, 512)\n",
    "        self.fc2 = nn.Linear(512, 256)\n",
    "        self.fc3 = nn.Linear(256, latent_dim * categorical_dim)\n",
    "\n",
    "        self.fc4 = nn.Linear(latent_dim * categorical_dim, 256)\n",
    "        self.fc5 = nn.Linear(256, 512)\n",
    "        self.fc6 = nn.Linear(512, 38)\n",
    "\n",
    "        self.relu = nn.ReLU()\n",
    "        self.sigmoid = nn.Sigmoid()\n",
    "\n",
    "    def encode(self, x):\n",
    "        h1 = self.relu(self.fc1(x))\n",
    "        h2 = self.relu(self.fc2(h1))\n",
    "        return self.relu(self.fc3(h2))\n",
    "\n",
    "    def decode(self, z):\n",
    "        h4 = self.relu(self.fc4(z))\n",
    "        h5 = self.relu(self.fc5(h4))\n",
    "        return self.sigmoid(self.fc6(h5))\n",
    "\n",
    "    def forward(self, x, temp, hard):\n",
    "        q = self.encode(x)\n",
    "        q_y = q.view(q.size(0), latent_dim, categorical_dim)\n",
    "        z = gumbel_softmax(q_y, temp, hard)\n",
    "        return self.decode(z), F.softmax(q_y, dim=-1).reshape(*q.size())"
   ]
  },
  {
   "cell_type": "code",
   "execution_count": 9,
   "metadata": {
    "scrolled": true
   },
   "outputs": [
    {
     "name": "stderr",
     "output_type": "stream",
     "text": [
      " 12%|█▏        | 1190/10000 [00:01<00:13, 674.38it/s]\n",
      "100%|██████████| 100/100 [00:08<00:00, 11.88it/s]\n",
      " 12%|█▏        | 1190/10000 [00:01<00:11, 736.51it/s]\n",
      " 59%|█████▉    | 59/100 [00:05<00:03, 11.64it/s]\n",
      " 12%|█▏        | 1190/10000 [00:01<00:11, 737.15it/s]\n",
      "100%|██████████| 100/100 [00:10<00:00,  9.63it/s]\n",
      " 12%|█▏        | 1190/10000 [00:01<00:12, 733.51it/s]\n",
      " 23%|██▎       | 23/100 [00:02<00:08,  9.04it/s]\n",
      " 12%|█▏        | 1190/10000 [00:01<00:11, 734.29it/s]\n",
      "100%|██████████| 100/100 [00:12<00:00,  7.81it/s]\n",
      " 12%|█▏        | 1190/10000 [00:01<00:11, 742.63it/s]\n",
      " 11%|█         | 11/100 [00:01<00:12,  6.94it/s]\n",
      " 12%|█▏        | 1190/10000 [00:01<00:11, 736.05it/s]\n",
      "100%|██████████| 100/100 [00:09<00:00, 10.46it/s]\n",
      " 12%|█▏        | 1190/10000 [00:01<00:11, 740.17it/s]\n",
      " 59%|█████▉    | 59/100 [00:05<00:04, 10.22it/s]\n",
      " 12%|█▏        | 1190/10000 [00:01<00:12, 715.29it/s]\n",
      " 93%|█████████▎| 93/100 [00:11<00:00,  8.37it/s]\n",
      " 12%|█▏        | 1190/10000 [00:01<00:12, 725.80it/s]\n",
      " 23%|██▎       | 23/100 [00:02<00:09,  7.99it/s]\n",
      " 12%|█▏        | 1190/10000 [00:01<00:12, 729.04it/s]\n",
      " 56%|█████▌    | 56/100 [00:08<00:06,  6.81it/s]\n",
      " 12%|█▏        | 1190/10000 [00:01<00:12, 731.86it/s]\n",
      " 16%|█▌        | 16/100 [00:02<00:12,  6.48it/s]\n",
      " 12%|█▏        | 1190/10000 [00:01<00:11, 735.30it/s]\n",
      "100%|██████████| 100/100 [00:12<00:00,  7.95it/s]\n",
      " 12%|█▏        | 1190/10000 [00:01<00:12, 729.82it/s]\n",
      " 59%|█████▉    | 59/100 [00:07<00:05,  7.73it/s]\n",
      " 12%|█▏        | 1190/10000 [00:01<00:12, 728.70it/s]\n",
      "100%|██████████| 100/100 [00:14<00:00,  7.08it/s]\n",
      " 12%|█▏        | 1190/10000 [00:01<00:12, 728.29it/s]\n",
      " 16%|█▌        | 16/100 [00:02<00:12,  6.52it/s]\n",
      " 12%|█▏        | 1190/10000 [00:01<00:12, 731.17it/s]\n",
      " 92%|█████████▏| 92/100 [00:15<00:01,  5.84it/s]\n",
      " 12%|█▏        | 1190/10000 [00:01<00:12, 725.33it/s]\n",
      " 16%|█▌        | 16/100 [00:02<00:15,  5.47it/s]\n",
      " 18%|█▊        | 1797/10000 [00:02<00:10, 784.97it/s]\n",
      "100%|██████████| 100/100 [00:07<00:00, 12.90it/s]\n",
      " 18%|█▊        | 1797/10000 [00:02<00:11, 743.36it/s]\n",
      " 92%|█████████▏| 92/100 [00:07<00:00, 12.55it/s]\n",
      " 18%|█▊        | 1797/10000 [00:02<00:10, 776.41it/s]\n",
      " 93%|█████████▎| 93/100 [00:09<00:00,  9.67it/s]\n",
      " 18%|█▊        | 1797/10000 [00:02<00:11, 740.34it/s]\n",
      " 17%|█▋        | 17/100 [00:01<00:08,  9.42it/s]\n",
      " 18%|█▊        | 1797/10000 [00:02<00:10, 794.37it/s]\n",
      " 60%|██████    | 60/100 [00:07<00:04,  8.25it/s]\n",
      " 18%|█▊        | 1797/10000 [00:02<00:10, 795.02it/s]\n",
      "  9%|▉         | 9/100 [00:01<00:12,  7.37it/s]\n",
      " 18%|█▊        | 1797/10000 [00:02<00:10, 796.68it/s]\n",
      "100%|██████████| 100/100 [00:08<00:00, 11.92it/s]\n",
      " 18%|█▊        | 1797/10000 [00:02<00:10, 794.83it/s]\n",
      " 92%|█████████▏| 92/100 [00:07<00:00, 11.65it/s]\n",
      " 18%|█▊        | 1797/10000 [00:02<00:10, 788.19it/s]\n",
      " 93%|█████████▎| 93/100 [00:09<00:00,  9.42it/s]\n",
      " 18%|█▊        | 1797/10000 [00:02<00:10, 796.28it/s]\n",
      " 17%|█▋        | 17/100 [00:01<00:09,  8.71it/s]\n",
      " 18%|█▊        | 1797/10000 [00:02<00:10, 790.59it/s]\n",
      " 36%|███▌      | 36/100 [00:04<00:08,  7.51it/s]\n",
      " 18%|█▊        | 1797/10000 [00:02<00:10, 792.97it/s]\n",
      " 14%|█▍        | 14/100 [00:02<00:12,  6.99it/s]\n",
      " 18%|█▊        | 1797/10000 [00:02<00:10, 796.73it/s]\n",
      "100%|██████████| 100/100 [00:10<00:00,  9.33it/s]\n",
      " 18%|█▊        | 1797/10000 [00:02<00:10, 794.88it/s]\n",
      " 92%|█████████▏| 92/100 [00:09<00:00,  9.22it/s]\n",
      " 18%|█▊        | 1797/10000 [00:02<00:10, 794.07it/s]\n",
      " 71%|███████   | 71/100 [00:08<00:03,  8.02it/s]\n",
      " 18%|█▊        | 1797/10000 [00:02<00:10, 791.73it/s]\n",
      " 26%|██▌       | 26/100 [00:03<00:09,  7.61it/s]\n",
      " 18%|█▊        | 1797/10000 [00:02<00:10, 796.45it/s]\n",
      " 58%|█████▊    | 58/100 [00:08<00:06,  6.58it/s]\n",
      " 18%|█▊        | 1797/10000 [00:02<00:10, 793.13it/s]\n",
      " 14%|█▍        | 14/100 [00:02<00:13,  6.17it/s]\n"
     ]
    }
   ],
   "source": [
    "# models = []\n",
    "# for param in params:\n",
    "#     model = DeepSurvivalMachines(k = param['k'],\n",
    "#                                  distribution = param['distribution'],\n",
    "#                                  layers = param['layers'])\n",
    "#     # The fit method is called to train the model\n",
    "#     model.fit(x_train, t_train, e_train, iters = 100, learning_rate = param['learning_rate'])\n",
    "#     models.append([[model.compute_nll(x_val, t_val, e_val), model]])\n",
    "# best_model = min(models)\n",
    "# model = best_model[0][1]\n",
    "model = VAE_gumbel(1.0)\n",
    "optimizer = optim.Adam(model.parameters(), lr=1e-3)\n",
    "\n",
    "def loss_function(recon_x, x, qy):\n",
    "    BCE = F.binary_cross_entropy(recon_x, x, size_average=False) / x.shape[0]\n",
    "\n",
    "    log_ratio = torch.log(qy * categorical_dim + 1e-20)\n",
    "    KLD = torch.sum(qy * log_ratio, dim=-1).mean()\n",
    "\n",
    "    return BCE + KLD\n",
    "\n",
    "def train(epoch,x_train):\n",
    "    model.train()\n",
    "    train_loss = 0\n",
    "    temp = 1.0\n",
    "    bs=128\n",
    "    nbatches = int(L/bs)+1\n",
    "    for batch_idx in range(nbatches):\n",
    "        xb = x_train[batch_idx*bs:(batch_idx+1)*bs]\n",
    "        if xb.shape[0] == 0:\n",
    "            continue\n",
    "        optimizer.zero_grad()\n",
    "        recon_batch, qy = model(xb, temp, False)\n",
    "        loss = loss_function(recon_batch, data, qy)\n",
    "        loss.backward()\n",
    "        train_loss += loss.item() * len(data)\n",
    "        optimizer.step()\n",
    "        if batch_idx % 10 == 1:\n",
    "            temp = np.maximum(temp * np.exp(-ANNEAL_RATE * batch_idx), temp_min)\n",
    "\n",
    "    print('====> Epoch: {} Average loss: {:.4f}'.format(\n",
    "        epoch, train_loss /B )\n",
    "\n",
    "for epoch in range(1, 10 + 1):\n",
    "        train(epoch)\n",
    "\n"
   ]
  },
  {
   "cell_type": "markdown",
   "metadata": {},
   "source": [
    "### Inference"
   ]
  },
  {
   "cell_type": "code",
   "execution_count": 10,
   "metadata": {},
   "outputs": [],
   "source": [
    "out_risk = model.predict_risk(x_test, times)\n",
    "out_survival = model.predict_survival(x_test, times)"
   ]
  },
  {
   "cell_type": "markdown",
   "metadata": {},
   "source": [
    "### Evaluation\n",
    "\n",
    "We evaluate the performance of DSM in its discriminative ability (Time Dependent Concordance Index and Cumulative Dynamic AUC) as well as Brier Score."
   ]
  },
  {
   "cell_type": "code",
   "execution_count": 11,
   "metadata": {},
   "outputs": [],
   "source": [
    "from sksurv.metrics import concordance_index_ipcw, brier_score, cumulative_dynamic_auc"
   ]
  },
  {
   "cell_type": "code",
   "execution_count": 12,
   "metadata": {},
   "outputs": [
    {
     "name": "stdout",
     "output_type": "stream",
     "text": [
      "For 0.25 quantile,\n",
      "TD Concordance Index: 0.7654588597145041\n",
      "Brier Score: 0.11137220428760089\n",
      "ROC AUC  0.7726522677974235 \n",
      "\n",
      "For 0.5 quantile,\n",
      "TD Concordance Index: 0.7028085372828209\n",
      "Brier Score: 0.18272355422012257\n",
      "ROC AUC  0.7233134711382971 \n",
      "\n",
      "For 0.75 quantile,\n",
      "TD Concordance Index: 0.6598328655895858\n",
      "Brier Score: 0.2213274872450867\n",
      "ROC AUC  0.7150287756709275 \n",
      "\n"
     ]
    }
   ],
   "source": [
    "cis = []\n",
    "brs = []\n",
    "\n",
    "et_train = np.array([(e_train[i], t_train[i]) for i in range(len(e_train))],\n",
    "                 dtype = [('e', bool), ('t', float)])\n",
    "et_test = np.array([(e_test[i], t_test[i]) for i in range(len(e_test))],\n",
    "                 dtype = [('e', bool), ('t', float)])\n",
    "et_val = np.array([(e_val[i], t_val[i]) for i in range(len(e_val))],\n",
    "                 dtype = [('e', bool), ('t', float)])\n",
    "\n",
    "for i, _ in enumerate(times):\n",
    "    cis.append(concordance_index_ipcw(et_train, et_test, out_risk[:, i], times[i])[0])\n",
    "brs.append(brier_score(et_train, et_test, out_survival, times)[1])\n",
    "roc_auc = []\n",
    "for i, _ in enumerate(times):\n",
    "    roc_auc.append(cumulative_dynamic_auc(et_train, et_test, out_risk[:, i], times[i])[0])\n",
    "for horizon in enumerate(horizons):\n",
    "    print(f\"For {horizon[1]} quantile,\")\n",
    "    print(\"TD Concordance Index:\", cis[horizon[0]])\n",
    "    print(\"Brier Score:\", brs[0][horizon[0]])\n",
    "    print(\"ROC AUC \", roc_auc[horizon[0]][0], \"\\n\")"
   ]
  },
  {
   "cell_type": "code",
   "execution_count": null,
   "metadata": {},
   "outputs": [],
   "source": []
  }
 ],
 "metadata": {
  "kernelspec": {
   "display_name": "Python 3",
   "language": "python",
   "name": "python3"
  },
  "language_info": {
   "codemirror_mode": {
    "name": "ipython",
    "version": 3
   },
   "file_extension": ".py",
   "mimetype": "text/x-python",
   "name": "python",
   "nbconvert_exporter": "python",
   "pygments_lexer": "ipython3",
   "version": "3.8.8"
  }
 },
 "nbformat": 4,
 "nbformat_minor": 4
}
